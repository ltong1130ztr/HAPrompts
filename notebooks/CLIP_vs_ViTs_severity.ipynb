{
 "cells": [
  {
   "cell_type": "markdown",
   "id": "eb0cc9d5-e646-4136-94ec-9c5644f19f58",
   "metadata": {},
   "source": [
    "# visualize severity of predictions in histogram"
   ]
  },
  {
   "cell_type": "code",
   "execution_count": 1,
   "id": "e090ca6f-6eda-41c7-90bc-54a211cc9f34",
   "metadata": {},
   "outputs": [],
   "source": [
    "import os\n",
    "import sys\n",
    "import pickle\n",
    "import itertools\n",
    "import numpy as np\n",
    "import matplotlib.pyplot as plt\n",
    "\n",
    "from tqdm import tqdm\n",
    "from torchvision import datasets\n",
    "\n",
    "sys.path.append('../')\n",
    "from utils.directory import load_config"
   ]
  },
  {
   "cell_type": "markdown",
   "id": "2a449e8b-be6f-4837-8873-ce2d5e7102df",
   "metadata": {},
   "source": [
    "## input methods and set dataset to eval"
   ]
  },
  {
   "cell_type": "code",
   "execution_count": 2,
   "id": "1ca4016d-cae7-4240-9cbf-b6d15da137e0",
   "metadata": {},
   "outputs": [],
   "source": [
    "methods = [\n",
    "    'CLIP (ViT-L/14@336px)', \n",
    "    'ViT-B/16', 'ViT-B/32',\n",
    "    'ViT-L/16', 'ViT-L/32',\n",
    "]\n",
    "\n",
    "dataset = 'imagenet'\n",
    "partition = 'test'"
   ]
  },
  {
   "cell_type": "markdown",
   "id": "5b4acc35-9eb6-4d5a-8e7f-afc2352c8812",
   "metadata": {},
   "source": [
    "## datasets "
   ]
  },
  {
   "cell_type": "code",
   "execution_count": 3,
   "id": "cbafc12a-91c7-4a01-8c9c-286117b114ca",
   "metadata": {},
   "outputs": [],
   "source": [
    "config_path = '../data_paths.yml'\n",
    "dataset_dir = load_config(config_path)[dataset]\n",
    "dataset_dir = os.path.join(dataset_dir, partition)\n",
    "eval_dataset = datasets.ImageFolder(\n",
    "    root=dataset_dir, \n",
    "    transform=None,\n",
    ")\n",
    "\n",
    "\n",
    "def get_name(name_tag):\n",
    "    return name_tag.replace('_', ' ').lower().split('@')[0]\n",
    "\n",
    "def name_preprocessing(classnames):\n",
    "    classnames = [get_name(name) for name in classnames]\n",
    "    return  classnames\n",
    "\n",
    "\n",
    "classnames = eval_dataset.class_to_idx\n",
    "classnames = name_preprocessing(classnames)"
   ]
  },
  {
   "cell_type": "markdown",
   "id": "475f9bf5-eef2-426e-b0bb-8964527ba5a9",
   "metadata": {},
   "source": [
    "## hierarchical distance"
   ]
  },
  {
   "cell_type": "code",
   "execution_count": 4,
   "id": "1f2c4925-cffd-4cb4-9fe7-1d577f78d0c3",
   "metadata": {},
   "outputs": [],
   "source": [
    "class DistanceDict(dict):\n",
    "    \"\"\"\n",
    "    Small helper class implementing a symmetrical dictionary to hold distance data.\n",
    "    \"\"\"\n",
    "\n",
    "    def __init__(self, distances):\n",
    "        self.distances = {tuple(sorted(t)): v for t, v in distances.items()}\n",
    "\n",
    "    def __getitem__(self, i):\n",
    "        if i[0] == i[1]:\n",
    "            return 0\n",
    "        else:\n",
    "            return self.distances[(i[0], i[1]) if i[0] < i[1] else (i[1], i[0])]\n",
    "\n",
    "    def __setitem__(self, i):\n",
    "        raise NotImplementedError()\n",
    "\n",
    "\n",
    "def load_hie_distance(dataset, data_dir):\n",
    "    if dataset == 'imagenet':\n",
    "        fname = os.path.join(data_dir, dataset, 'imagenet_hdist_cupl_vcd.pkl')\n",
    "    else:\n",
    "        raise ValueError(f\"Unknown dataset {dataset}\")\n",
    "    \n",
    "    with open(fname, 'rb') as f:\n",
    "        return DistanceDict(pickle.load(f))\n",
    "\n",
    "\n",
    "data_dir = '../trees'\n",
    "hdist = load_hie_distance(dataset, data_dir)"
   ]
  },
  {
   "cell_type": "markdown",
   "id": "68769218-5dee-420c-b9a9-79cad42e55f9",
   "metadata": {},
   "source": [
    "## loading prediction results"
   ]
  },
  {
   "cell_type": "code",
   "execution_count": 5,
   "id": "3e78ae2e-4366-4cd0-8492-5d296bd9dd15",
   "metadata": {},
   "outputs": [],
   "source": [
    "def load_prediction_results(method, dataset, partition):\n",
    "    prompt = None\n",
    "    inference = 'flat'\n",
    "    if 'CLIP' in method:\n",
    "        prompt = 'clip'\n",
    "        fname = f'{inference}-inf-{prompt}-prompt.pkl'\n",
    "    elif method == 'ViT-B/16':\n",
    "        fname = 'imagenet_pretrained_ViT_B_16.pkl'\n",
    "    elif method == 'ViT-B/32':\n",
    "        fname = 'imagenet_pretrained_ViT_B_32.pkl'\n",
    "    elif method == 'ViT-L/16':\n",
    "        fname = 'imagenet_pretrained_ViT_L_16.pkl'\n",
    "    elif method == 'ViT-L/32':\n",
    "        fname = 'imagenet_pretrained_ViT_L_32.pkl'\n",
    "    else:\n",
    "        raise NotImplementedError(f'method: {method} not implemented')\n",
    "\n",
    "    \n",
    "    pred_res_path = os.path.join(f'../results-{partition}/{dataset}', fname)\n",
    "        \n",
    "    with open(pred_res_path, 'rb') as f:\n",
    "        pred_res = pickle.load(f)\n",
    "    print(f'loading inference results at {pred_res_path}')\n",
    "    gt = pred_res['gt']\n",
    "    pred = pred_res['pred_crm'] if method == 'CRM' else pred_res['pred']\n",
    "    return gt, pred"
   ]
  },
  {
   "cell_type": "markdown",
   "id": "e8e025ac-b0d3-4eda-bded-6d18dfcc349e",
   "metadata": {},
   "source": [
    "## evaluation - utils"
   ]
  },
  {
   "cell_type": "code",
   "execution_count": 6,
   "id": "f2ea36b0-cf87-45d7-b771-b8dc57b269ac",
   "metadata": {},
   "outputs": [],
   "source": [
    "def evaluation(classnames, hdist, gt, pred):\n",
    "    \n",
    "    N_samples = len(gt)\n",
    "\n",
    "    # overall top1 accuracy\n",
    "    acc = np.sum(pred==gt) / N_samples\n",
    "\n",
    "    # overall hierarchical distance @ 1\n",
    "    pred_hdist = np.zeros([N_samples,])\n",
    "    \n",
    "    for i in tqdm(range(N_samples), total=N_samples):\n",
    "        class_id_gt = gt[i]\n",
    "        class_id_pred = pred[i]\n",
    "\n",
    "        pred_hdist[i] = hdist[(classnames[class_id_gt], classnames[class_id_pred])]\n",
    "\n",
    "    avg_hdist = np.mean(pred_hdist)\n",
    "    mistake_id = np.where(pred_hdist!=0)[0]\n",
    "    norm_mistake = len(mistake_id)\n",
    "    avg_severity = np.sum(pred_hdist[mistake_id]) / norm_mistake\n",
    "    \n",
    "    print('--------------------------------')\n",
    "    print(f'Top-1: {acc*100:.2f}%')\n",
    "    print(f'Severity: {avg_severity: .2f}')\n",
    "    print(f'HieDist@1: {avg_hdist: .2f}')\n",
    "    print('--------------------------------')\n",
    "    return pred_hdist[mistake_id]"
   ]
  },
  {
   "cell_type": "markdown",
   "id": "af23cb4a-5744-4ad7-a5b0-c017961cb14d",
   "metadata": {},
   "source": [
    "## evaluation of different methods -> generate collection of prediction severities"
   ]
  },
  {
   "cell_type": "code",
   "execution_count": 7,
   "id": "85f59792-91e1-45f6-a761-cba720e2e48a",
   "metadata": {},
   "outputs": [
    {
     "name": "stdout",
     "output_type": "stream",
     "text": [
      "loading inference results at ../results-test/imagenet/flat-inf-clip-prompt.pkl\n",
      "eval \"CLIP (ViT-L/14@336px)\" on test set of imagenet:\n"
     ]
    },
    {
     "name": "stderr",
     "output_type": "stream",
     "text": [
      "100%|███████████████████████████████████████████████████████████████| 24950/24950 [00:00<00:00, 2127897.78it/s]\n"
     ]
    },
    {
     "name": "stdout",
     "output_type": "stream",
     "text": [
      "--------------------------------\n",
      "Top-1: 76.58%\n",
      "Severity:  5.46\n",
      "HieDist@1:  1.28\n",
      "--------------------------------\n",
      "loading inference results at ../results-test/imagenet/imagenet_pretrained_ViT_B_16.pkl\n",
      "eval \"ViT-B/16\" on test set of imagenet:\n"
     ]
    },
    {
     "name": "stderr",
     "output_type": "stream",
     "text": [
      "100%|███████████████████████████████████████████████████████████████| 24950/24950 [00:00<00:00, 2292044.70it/s]\n"
     ]
    },
    {
     "name": "stdout",
     "output_type": "stream",
     "text": [
      "--------------------------------\n",
      "Top-1: 80.83%\n",
      "Severity:  6.00\n",
      "HieDist@1:  1.15\n",
      "--------------------------------\n",
      "loading inference results at ../results-test/imagenet/imagenet_pretrained_ViT_B_32.pkl\n",
      "eval \"ViT-B/32\" on test set of imagenet:\n"
     ]
    },
    {
     "name": "stderr",
     "output_type": "stream",
     "text": [
      "100%|███████████████████████████████████████████████████████████████| 24950/24950 [00:00<00:00, 2264517.55it/s]\n"
     ]
    },
    {
     "name": "stdout",
     "output_type": "stream",
     "text": [
      "--------------------------------\n",
      "Top-1: 75.68%\n",
      "Severity:  6.21\n",
      "HieDist@1:  1.51\n",
      "--------------------------------\n",
      "loading inference results at ../results-test/imagenet/imagenet_pretrained_ViT_L_16.pkl\n",
      "eval \"ViT-L/16\" on test set of imagenet:\n"
     ]
    },
    {
     "name": "stderr",
     "output_type": "stream",
     "text": [
      "100%|███████████████████████████████████████████████████████████████| 24950/24950 [00:00<00:00, 2332870.05it/s]\n"
     ]
    },
    {
     "name": "stdout",
     "output_type": "stream",
     "text": [
      "--------------------------------\n",
      "Top-1: 79.27%\n",
      "Severity:  6.10\n",
      "HieDist@1:  1.27\n",
      "--------------------------------\n",
      "loading inference results at ../results-test/imagenet/imagenet_pretrained_ViT_L_32.pkl\n",
      "eval \"ViT-L/32\" on test set of imagenet:\n"
     ]
    },
    {
     "name": "stderr",
     "output_type": "stream",
     "text": [
      "100%|███████████████████████████████████████████████████████████████| 24950/24950 [00:00<00:00, 2280655.66it/s]"
     ]
    },
    {
     "name": "stdout",
     "output_type": "stream",
     "text": [
      "--------------------------------\n",
      "Top-1: 76.88%\n",
      "Severity:  6.20\n",
      "HieDist@1:  1.43\n",
      "--------------------------------\n"
     ]
    },
    {
     "name": "stderr",
     "output_type": "stream",
     "text": [
      "\n"
     ]
    }
   ],
   "source": [
    "severity_dict = dict()\n",
    "\n",
    "for method in methods:\n",
    "    gt, pred = load_prediction_results(method, dataset, partition)\n",
    "    print(f'eval \"{method}\" on {partition} set of {dataset}:')\n",
    "    sevs = evaluation(classnames, hdist, gt, pred)\n",
    "    severity_dict[method] = sevs"
   ]
  },
  {
   "cell_type": "markdown",
   "id": "94876b0b-3c6b-4388-b380-f2c162feba5b",
   "metadata": {},
   "source": [
    "## plot histogram util\n",
    "- all bins are [,) except for the right most bin: [,]"
   ]
  },
  {
   "cell_type": "code",
   "execution_count": 8,
   "id": "6e3219c9-c98e-44cb-906a-9a3f3742c019",
   "metadata": {},
   "outputs": [],
   "source": [
    "def histogram_plots(methods, severity_dict, hdist, classnames, dataset):\n",
    "    hdist_max = -1\n",
    "    for a, b in itertools.combinations(classnames, 2):\n",
    "        hd = hdist[(a,b)]\n",
    "        hdist_max = max(hdist_max, hd)\n",
    "    print(f'{dataset}, max hdist is {hdist_max}')\n",
    "\n",
    "    bins = [x for x in range(1, hdist_max + 2)] # need right most bin edge\n",
    "    colors = ['blue', 'sandybrown', 'gold', 'orange',  'orangered']\n",
    "    colors = colors[:len(methods)]\n",
    "    \n",
    "    fig = plt.figure(figsize=(15,5))\n",
    "    plt.hist([h for _, h in severity_dict.items()], \n",
    "             bins=bins, align='left',label=methods, \n",
    "             alpha=0.6, color=colors, density=True)\n",
    "    plt.xticks(bins[:-1], bins[:-1])\n",
    "    plt.xlabel('mistake severity', fontsize=15)\n",
    "    plt.ylabel('% of misclassifications', fontsize=15)\n",
    "    plt.legend(loc='upper right', fontsize=12)\n",
    "    return fig"
   ]
  },
  {
   "cell_type": "code",
   "execution_count": 9,
   "id": "de5aeaff-e9c4-4419-a5e2-715504b62a8c",
   "metadata": {},
   "outputs": [
    {
     "name": "stdout",
     "output_type": "stream",
     "text": [
      "imagenet, max hdist is 13\n"
     ]
    },
    {
     "data": {
      "image/png": "[encoded data removed]",
      "text/plain": [
       "<Figure size 1500x500 with 1 Axes>"
      ]
     },
     "metadata": {},
     "output_type": "display_data"
    }
   ],
   "source": [
    "fig = histogram_plots(methods, severity_dict, hdist, classnames, dataset)"
   ]
  },
  {
   "cell_type": "code",
   "execution_count": 10,
   "id": "2397b18a-4d89-4445-9c96-8c30912a2695",
   "metadata": {},
   "outputs": [],
   "source": [
    "save_dir = '../assets'\n",
    "if not os.path.exists(save_dir): os.makedirs(save_dir)\n",
    "fig.savefig(f'{save_dir}/CLIP-vs-ViT.png')"
   ]
  }
 ],
 "metadata": {
  "kernelspec": {
   "display_name": "Python 3 (ipykernel)",
   "language": "python",
   "name": "python3"
  },
  "language_info": {
   "codemirror_mode": {
    "name": "ipython",
    "version": 3
   },
   "file_extension": ".py",
   "mimetype": "text/x-python",
   "name": "python",
   "nbconvert_exporter": "python",
   "pygments_lexer": "ipython3",
   "version": "3.10.15"
  }
 },
 "nbformat": 4,
 "nbformat_minor": 5
}
